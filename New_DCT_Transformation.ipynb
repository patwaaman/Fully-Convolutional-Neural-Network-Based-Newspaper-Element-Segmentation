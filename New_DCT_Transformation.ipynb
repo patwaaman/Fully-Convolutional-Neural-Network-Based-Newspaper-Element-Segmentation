{
  "nbformat": 4,
  "nbformat_minor": 0,
  "metadata": {
    "accelerator": "GPU",
    "colab": {
      "name": "New DCT Transformation.ipynb",
      "provenance": [],
      "collapsed_sections": [],
      "authorship_tag": "ABX9TyOqa9542zUXMkENV5/EKptu",
      "include_colab_link": true
    },
    "kernelspec": {
      "display_name": "Python 3",
      "name": "python3"
    },
    "language_info": {
      "name": "python"
    }
  },
  "cells": [
    {
      "cell_type": "markdown",
      "metadata": {
        "id": "view-in-github",
        "colab_type": "text"
      },
      "source": [
        "<a href=\"https://colab.research.google.com/github/patwaaman/Fully-Convolutional-Neural-Network-Based-Newspaper-Element-Segmentation/blob/main/New_DCT_Transformation.ipynb\" target=\"_parent\"><img src=\"https://colab.research.google.com/assets/colab-badge.svg\" alt=\"Open In Colab\"/></a>"
      ]
    },
    {
      "cell_type": "markdown",
      "metadata": {
        "id": "MYleNZSYYRn4"
      },
      "source": [
        "This implements the DCT transformation using :\n",
        "1.    cv2 library for RGB to Ycbcr colorspace conversion of images.\n",
        "2.    scipy.fftpack for DCT transformation of Ycbcr colorspace images.\n",
        "3.    scipy.fftpack for IDCT transformation of the DCT transformed images.\n"
      ]
    },
    {
      "cell_type": "code",
      "metadata": {
        "colab": {
          "base_uri": "https://localhost:8080/"
        },
        "id": "BCGio44Z-ZU8",
        "outputId": "c30d7b8e-2367-40c3-a2ce-6a26b9c508a3"
      },
      "source": [
        "from google.colab import drive\n",
        "drive.mount('/content/drive')"
      ],
      "execution_count": null,
      "outputs": [
        {
          "output_type": "stream",
          "text": [
            "Mounted at /content/drive\n"
          ],
          "name": "stdout"
        }
      ]
    },
    {
      "cell_type": "code",
      "metadata": {
        "id": "mOhhlx2v_F2q"
      },
      "source": [
        "import os\n",
        "import cv2\n",
        "import numpy as np\n",
        "from numpy import r_\n",
        "from numpy import pi\n",
        "import scipy\n",
        "from scipy import fftpack\n",
        "from scipy import signal\n",
        "from PIL import Image\n",
        "import matplotlib.pyplot as plt\n",
        "\n",
        "%matplotlib inline"
      ],
      "execution_count": null,
      "outputs": []
    },
    {
      "cell_type": "code",
      "metadata": {
        "id": "zDG0oVuK_GMU"
      },
      "source": [
        "#Giving folder path and changing current directory to given folder path\n",
        "train_dir = \"/content/drive/MyDrive/MiniProject/ManualDataset/\"\n",
        "os.chdir(train_dir)\n",
        "train_images = os.listdir(train_dir)\n",
        "  "
      ],
      "execution_count": null,
      "outputs": []
    },
    {
      "cell_type": "code",
      "metadata": {
        "colab": {
          "base_uri": "https://localhost:8080/"
        },
        "id": "dRDwADD-_gn2",
        "outputId": "d487cea6-9778-49de-ab0a-23b45715572b"
      },
      "source": [
        "print(train_images)\n",
        "print(len(train_images))"
      ],
      "execution_count": null,
      "outputs": [
        {
          "output_type": "stream",
          "text": [
            "['ap10.jpg', 'ap1.jpg', 'ap4.jpg', 'ap11.jpg', 'ap14.jpg', 'ap12.jpg', 'ap2.jpg', 'ap13.jpg', 'ap3.jpg', 'ap8.jpg', 'ap6.jpg', 'ap7.jpg', 'ap9.jpg', 'ap5.jpg', 'ap1_m.png', 'ap2_m.png', 'ap3_m.png', 'ap4_m.png', 'ap5_m.png', 'ap6_m.png', 'ap7_m.png', 'ap8_m.png', 'ap9_m.png', 'ap10_m.png', 'ap14_m.png', 'ap13_m.png', 'ap12_m.png', 'ap11_m.png', 'ap15.jpg', 'ap26.jpg', 'ap25.jpg', 'ap27.jpg', 'ap24.jpg', 'ap17.jpg', 'ap18.jpg', 'ap28.jpg', 'ap20.jpg', 'ap16.jpg', 'ap19.jpg', 'ap22.jpg', 'ap21.jpg', 'ap23.jpg', 'ap29.jpg', 'ap31.jpg', 'ap30.jpg', 'ap15_m.png', 'ap16_m.png', 'ap17_m.png', 'ap18_m.png', 'ap19_m.png', 'ap20_m.png', 'ap21_m.png', 'ap22_m.png', 'ap23_m.png', 'ap24_m.png', 'ap25_m.png', 'ap26_m.png', 'ap27_m.png', 'ap28_m.png', 'ap29_m.png', 'ap30_m.png', 'ap31_m.png', 'ap90.jpg', 'ap72.jpg', 'ap71.jpg', 'ap91.jpg', 'ap82.jpg', 'ap62.jpg', 'ap69.jpg', 'ap73.jpg', 'ap70.jpg', 'ap89.jpg', 'ap87.jpg', 'ap68.jpg', 'ap88.jpg', 'ap84.jpg', 'ap74.jpg', 'ap85.jpg', 'ap86.jpg', 'ap65.jpg', 'ap66.jpg', 'ap67.jpg', 'ap81.jpg', 'ap75.jpg', 'ap76.jpg', 'ap83.jpg', 'ap63.jpg', 'ap79.jpg', 'ap80.jpg', 'ap78.jpg', 'ap77.jpg', 'ap64.jpg', 'ap134.jpg', 'ap133.jpg', 'ap135.jpg', 'ap131.jpg', 'ap122.jpg', 'ap132.jpg', 'ap136.jpg', 'ap140.jpg', 'ap138.jpg', 'ap139.jpg', 'ap123.jpg', 'ap137.jpg', 'ap141.jpg', 'ap129.jpg', 'ap126.jpg', 'ap127.jpg', 'ap124.jpg', 'ap125.jpg', 'ap142.jpg', 'ap128.jpg', 'ap130.jpg', 'ap38.jpg', 'ap55.jpg', 'ap41.jpg', 'ap39.jpg', 'ap40.jpg', 'ap42.jpg', 'ap33.jpg', 'ap50.jpg', 'ap32.jpg', 'ap49.jpg', 'ap51.jpg', 'ap54.jpg', 'ap34.jpg', 'ap53.jpg', 'ap35.jpg', 'ap52.jpg', 'ap36.jpg', 'ap37.jpg', 'ap105.jpg', 'ap104.jpg', 'ap100.jpg', 'ap106.jpg', 'ap96.jpg', 'ap103.jpg', 'ap95.jpg', 'ap102.jpg', 'ap94.jpg', 'ap99.jpg', 'ap97.jpg', 'ap92.jpg', 'ap101.jpg', 'ap93.jpg', 'ap62_m.png', 'ap92_m.jpg', 'ap63_m.png', 'ap64_m.png', 'ap65_m.png', 'ap66_m.png', 'ap67_m.png', 'ap93_m.jpg', 'ap94_m.jpg', 'ap122_m.jpg', 'ap123_m.jpg', 'ap49_m.jpg', 'ap32_m.jpg', 'ap95_m.jpg', 'ap124_m.jpg', 'ap97_m.jpg', 'ap125_m.jpg', 'ap98_m.jpg', 'ap126_m.jpg', 'ap68_m.png', 'ap69_m.png', 'ap70_m.png', 'ap71_m.png', 'ap72_m.png', 'ap73_m.png', 'ap74_m.png', 'ap50_m.jpg', 'ap33_m.jpg', 'ap99_m.jpg', 'ap100_m.jpg', 'ap127_m.jpg', 'ap128_m.jpg', 'ap96_m.jpg', 'ap129_m.jpg', 'ap101_m.jpg', 'ap130_m.jpg', 'ap51_m.jpg', 'ap34_m.jpg', 'ap131_m.jpg', 'ap132_m.jpg', 'ap133_m.jpg', 'ap52_m.jpg', 'ap35_m.jpg', 'ap134_m.jpg', 'ap135_m.jpg', 'ap102_m.jpg', 'ap103_m.jpg', 'ap53_m.jpg', 'ap36_m.jpg', 'ap104_m.jpg', 'ap136_m.jpg', 'ap105_m.jpg', 'ap106_m.jpg', 'ap137_m.jpg', 'ap114.jpg', 'ap121.jpg', 'ap116.jpg', 'ap117.jpg', 'ap120.jpg', 'ap119.jpg', 'ap118.jpg', 'ap112.jpg', 'ap115.jpg', 'ap113.jpg', 'ap108.jpg', 'ap111.jpg', 'ap107.jpg', 'ap110.jpg', 'ap109.jpg', 'ap107_m.jpg', 'ap108_m.jpg', 'ap138_m.jpg', 'ap75_m.png', 'ap54_m.jpg', 'ap37_m.jpg', 'ap139_m.jpg', 'ap76_m.png', 'ap77_m.png', 'ap78_m.png', 'ap109_m.jpg', 'ap79_m.png', 'ap80_m.png', 'ap81_m.png', 'ap110_m.jpg', 'ap111_m.jpg', 'ap140_m.jpg', 'ap141_m.jpg', 'ap142_m.jpg', 'ap55_m.jpg', 'ap38_m.jpg', 'ap39_m.jpg', 'ap40_m.jpg', 'ap41_m.jpg', 'ap42_m.jpg', 'ap48.jpg', 'ap46.jpg', 'ap47.jpg', 'ap43.jpg', 'ap44.jpg', 'ap45.jpg', 'ap82_m.png', 'ap83_m.png', 'ap84_m.png', 'ap85_m.png', 'ap86_m.png', 'ap87_m.png', 'ap88_m.png', 'ap89_m.png', 'ap90_m.png', 'ap91_m.png', 'ap150.jpg', 'ap151.jpg', 'ap143.jpg', 'ap144.jpg', 'ap148.jpg', 'ap149.jpg', 'ap112_m.jpg', 'ap113_m.jpg', 'ap114_m.jpg', 'ap115_m.jpg', 'ap116_m.jpg', 'ap117_m.jpg', 'ap118_m.jpg', 'ap119_m.jpg', 'ap120_m.jpg', 'ap121_m.jpg', 'ap98.jpg', 'ap43_m.jpg', 'ap44_m.jpg', 'ap45_m.jpg', 'ap46_m.jpg', 'ap144_m.jpg', 'ap145_m.jpg', 'ap146_m.jpg', 'ap47_m.jpg', 'ap147_m.jpg', 'ap148_m.jpg', 'ap149_m.jpg', 'ap150_m.jpg', 'ap151_m.jpg', 'ap143_m.jpg', 'ap145.jpg', 'ap146.jpg', 'ap147.jpg', 'ap48_m.jpg']\n",
            "290\n"
          ],
          "name": "stdout"
        }
      ]
    },
    {
      "cell_type": "code",
      "metadata": {
        "id": "6n18uOZqWqsp"
      },
      "source": [
        "# Define 2D DCT and IDCT\n",
        "\n",
        "def dct2(a):\n",
        "    return scipy.fftpack.dct( scipy.fftpack.dct( a, axis=0, norm='ortho' ), axis=1, norm='ortho' )\n",
        "\n",
        "def idct2(a):\n",
        "    return scipy.fftpack.idct( scipy.fftpack.idct( a, axis=0 , norm='ortho'), axis=1 , norm='ortho')"
      ],
      "execution_count": null,
      "outputs": []
    },
    {
      "cell_type": "code",
      "metadata": {
        "id": "6JSH2meft0KF"
      },
      "source": [
        "#idct_Img =[]\n",
        "#dct_Thresh_Img = []\n",
        "\n",
        "IMG_HEIGHT, IMG_WIDTH = 1024, 512\n",
        "\n",
        "dct_Img = []\n",
        "for image in train_images:\n",
        "\n",
        "  im = cv2.imread(image)\n",
        "  im = cv2.resize(im, (IMG_WIDTH, IMG_HEIGHT))\n",
        "  im = cv2.cvtColor(im, cv2.COLOR_BGR2YCrCb)\n",
        "  im = np.array(im, dtype= np.float)\n",
        "\n",
        "  # ------  Perform a blockwise DCT -------- #\n",
        "  imsize = im.shape\n",
        "  dct = np.zeros(imsize)\n",
        "\n",
        "  # Do 8x8 DCT on image (in-place)\n",
        "  for i in r_[:imsize[0]:8]:\n",
        "      for j in r_[:imsize[1]:8]:\n",
        "          dct[i:(i+8),j:(j+8)] = dct2( im[i:(i+8),j:(j+8)] )\n",
        "\n",
        "  dct_Img.append(dct)\n",
        "\n",
        "  '''\n",
        "  # ---------  Extract 8x8 block and look at its DCT coefficients --------#\n",
        "  pos = 128\n",
        "\n",
        "  # Extract a block from image\n",
        "  plt.figure()\n",
        "  plt.imshow(im[pos:pos+8,pos:pos+8],cmap='gray')\n",
        "  plt.title( \"An 8x8 Image block\")\n",
        "\n",
        "  # Display the dct of that block\n",
        "  plt.figure()\n",
        "  plt.imshow(dct[pos:pos+8,pos:pos+8],cmap='gray',vmax= np.max(dct)*0.01,vmin = 0, extent=[0,pi,pi,0])\n",
        "  plt.title( \"An 8x8 DCT block\")\n",
        "  \n",
        "\n",
        "  # -------- Display all DCT blocks -------- #\n",
        "\n",
        "  plt.figure()\n",
        "  plt.imshow(dct,cmap='gray',vmax = np.max(dct)*0.01,vmin = 0)\n",
        "  plt.title( \"8x8 DCTs of the image\")\n",
        "  \n",
        "  \n",
        "  #.----------- Threshold DCT coefficients \n",
        "\n",
        "  thresh = 0.012\n",
        "  dct_thresh = dct * (abs(dct) > (thresh*np.max(dct)))\n",
        "  dct_Thresh_Img.append(dct_thresh)\n",
        "\n",
        " \n",
        "  plt.figure()\n",
        "  plt.imshow(dct_thresh,cmap='gray',vmax = np.max(dct)*0.01,vmin = 0)\n",
        "  plt.title( \"Thresholded 8x8 DCTs of the image\")\n",
        "\n",
        "  percent_nonzeros = np.sum( dct_thresh != 0.0 ) / (imsize[0]*imsize[1]*1.0)\n",
        "\n",
        "  print (\"Keeping only %f%% of the DCT coefficients\" % (percent_nonzeros*100.0))\n",
        "  '''\n",
        "  #-------- Compare DCT compressed image with original\n",
        "  '''\n",
        "  im_dct = np.zeros(imsize)\n",
        "\n",
        "  for i in r_[:imsize[0]:8]:\n",
        "      for j in r_[:imsize[1]:8]:\n",
        "          im_dct[i:(i+8),j:(j+8)] = idct2( dct_thresh[i:(i+8),j:(j+8)] )\n",
        "  \n",
        "  idct_Img.append(im_dct)\n",
        "\n",
        "\n",
        "  plt.figure()\n",
        "  plt.imshow( np.hstack( (im, im_dct) ) ,cmap='gray')\n",
        "  plt.title(\"Comparison between original and DCT compressed images\" )\n",
        "  '''"
      ],
      "execution_count": null,
      "outputs": []
    },
    {
      "cell_type": "code",
      "metadata": {
        "colab": {
          "base_uri": "https://localhost:8080/"
        },
        "id": "7Mk20mjmgODh",
        "outputId": "fd2f2848-8eb4-45b1-e423-f73cee8b6037"
      },
      "source": [
        "print(len(dct_Img))\n",
        "#print(len(dct_Thresh_Img))\n",
        "#print(len(idct_Img))"
      ],
      "execution_count": null,
      "outputs": [
        {
          "output_type": "stream",
          "text": [
            "290\n"
          ],
          "name": "stdout"
        }
      ]
    },
    {
      "cell_type": "code",
      "metadata": {
        "id": "m2lITSjaCf_Q"
      },
      "source": [
        "#Providing path of folder in which we want to save converted image\n",
        "path = \"/content/drive/MyDrive/MiniProject/DCTtransform/skDCT/\"\n",
        "os.chdir(path)  #Changing the directory to which we want to save the converted image\n",
        "#This for loop iterates over the images array which we get from load_data function and saves all images in target folder provided above\n",
        "for i in range(len(dct_Img)):\n",
        "  data = Image.fromarray((dct_Img[i] * 255).astype(np.uint8))\n",
        " # data = data.astype(np.float64)\n",
        "  newpath = path + train_images[i]\n",
        "  #print(newpath)\n",
        "  data.save(newpath)"
      ],
      "execution_count": null,
      "outputs": []
    },
    {
      "cell_type": "code",
      "metadata": {
        "id": "lEM3Mn4DGBe_"
      },
      "source": [
        "#Prints number of files in given folder\n",
        "onlyfiles = next(os.walk(\"/content/drive/MyDrive/MiniProject/DCTtransform/skDCT/\"))[2] \n",
        "print(len(onlyfiles))"
      ],
      "execution_count": null,
      "outputs": []
    }
  ]
}